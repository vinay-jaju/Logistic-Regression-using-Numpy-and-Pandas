{
 "cells": [
  {
   "cell_type": "code",
   "execution_count": 94,
   "metadata": {},
   "outputs": [],
   "source": [
    "import numpy as np\n",
    "import pandas as pd\n",
    "import matplotlib.pyplot as plt\n",
    "%matplotlib inline\n",
    "import seaborn as sns"
   ]
  },
  {
   "cell_type": "code",
   "execution_count": 95,
   "metadata": {},
   "outputs": [],
   "source": [
    "columns = [\"age\", \"workclass\", \"fnlwgt\", \"education\", \"education_num\", \n",
    "           \"marital_status\", \"occupation\", \"relationship\", \"race\", \"gender\", \n",
    "           \"capital_gain\", \"capital_loss\", \"hours_per_week\", \"native_country\", \"income_bracket\"]\n",
    "df = pd.read_csv('adult-training.csv',names=columns,skipinitialspace=True)"
   ]
  },
  {
   "cell_type": "code",
   "execution_count": 96,
   "metadata": {},
   "outputs": [],
   "source": [
    "test = pd.read_csv('adult-test.csv',names=columns,skiprows=1,skipinitialspace=True)"
   ]
  },
  {
   "cell_type": "code",
   "execution_count": 97,
   "metadata": {},
   "outputs": [
    {
     "data": {
      "text/html": [
       "<div>\n",
       "<style scoped>\n",
       "    .dataframe tbody tr th:only-of-type {\n",
       "        vertical-align: middle;\n",
       "    }\n",
       "\n",
       "    .dataframe tbody tr th {\n",
       "        vertical-align: top;\n",
       "    }\n",
       "\n",
       "    .dataframe thead th {\n",
       "        text-align: right;\n",
       "    }\n",
       "</style>\n",
       "<table border=\"1\" class=\"dataframe\">\n",
       "  <thead>\n",
       "    <tr style=\"text-align: right;\">\n",
       "      <th></th>\n",
       "      <th>age</th>\n",
       "      <th>workclass</th>\n",
       "      <th>fnlwgt</th>\n",
       "      <th>education</th>\n",
       "      <th>education_num</th>\n",
       "      <th>marital_status</th>\n",
       "      <th>occupation</th>\n",
       "      <th>relationship</th>\n",
       "      <th>race</th>\n",
       "      <th>gender</th>\n",
       "      <th>capital_gain</th>\n",
       "      <th>capital_loss</th>\n",
       "      <th>hours_per_week</th>\n",
       "      <th>native_country</th>\n",
       "      <th>income_bracket</th>\n",
       "    </tr>\n",
       "  </thead>\n",
       "  <tbody>\n",
       "    <tr>\n",
       "      <th>0</th>\n",
       "      <td>39</td>\n",
       "      <td>State-gov</td>\n",
       "      <td>77516</td>\n",
       "      <td>Bachelors</td>\n",
       "      <td>13</td>\n",
       "      <td>Never-married</td>\n",
       "      <td>Adm-clerical</td>\n",
       "      <td>Not-in-family</td>\n",
       "      <td>White</td>\n",
       "      <td>Male</td>\n",
       "      <td>2174</td>\n",
       "      <td>0</td>\n",
       "      <td>40</td>\n",
       "      <td>United-States</td>\n",
       "      <td>&lt;=50K</td>\n",
       "    </tr>\n",
       "    <tr>\n",
       "      <th>1</th>\n",
       "      <td>50</td>\n",
       "      <td>Self-emp-not-inc</td>\n",
       "      <td>83311</td>\n",
       "      <td>Bachelors</td>\n",
       "      <td>13</td>\n",
       "      <td>Married-civ-spouse</td>\n",
       "      <td>Exec-managerial</td>\n",
       "      <td>Husband</td>\n",
       "      <td>White</td>\n",
       "      <td>Male</td>\n",
       "      <td>0</td>\n",
       "      <td>0</td>\n",
       "      <td>13</td>\n",
       "      <td>United-States</td>\n",
       "      <td>&lt;=50K</td>\n",
       "    </tr>\n",
       "    <tr>\n",
       "      <th>2</th>\n",
       "      <td>38</td>\n",
       "      <td>Private</td>\n",
       "      <td>215646</td>\n",
       "      <td>HS-grad</td>\n",
       "      <td>9</td>\n",
       "      <td>Divorced</td>\n",
       "      <td>Handlers-cleaners</td>\n",
       "      <td>Not-in-family</td>\n",
       "      <td>White</td>\n",
       "      <td>Male</td>\n",
       "      <td>0</td>\n",
       "      <td>0</td>\n",
       "      <td>40</td>\n",
       "      <td>United-States</td>\n",
       "      <td>&lt;=50K</td>\n",
       "    </tr>\n",
       "    <tr>\n",
       "      <th>3</th>\n",
       "      <td>53</td>\n",
       "      <td>Private</td>\n",
       "      <td>234721</td>\n",
       "      <td>11th</td>\n",
       "      <td>7</td>\n",
       "      <td>Married-civ-spouse</td>\n",
       "      <td>Handlers-cleaners</td>\n",
       "      <td>Husband</td>\n",
       "      <td>Black</td>\n",
       "      <td>Male</td>\n",
       "      <td>0</td>\n",
       "      <td>0</td>\n",
       "      <td>40</td>\n",
       "      <td>United-States</td>\n",
       "      <td>&lt;=50K</td>\n",
       "    </tr>\n",
       "    <tr>\n",
       "      <th>4</th>\n",
       "      <td>28</td>\n",
       "      <td>Private</td>\n",
       "      <td>338409</td>\n",
       "      <td>Bachelors</td>\n",
       "      <td>13</td>\n",
       "      <td>Married-civ-spouse</td>\n",
       "      <td>Prof-specialty</td>\n",
       "      <td>Wife</td>\n",
       "      <td>Black</td>\n",
       "      <td>Female</td>\n",
       "      <td>0</td>\n",
       "      <td>0</td>\n",
       "      <td>40</td>\n",
       "      <td>Cuba</td>\n",
       "      <td>&lt;=50K</td>\n",
       "    </tr>\n",
       "  </tbody>\n",
       "</table>\n",
       "</div>"
      ],
      "text/plain": [
       "   age         workclass  fnlwgt  education  education_num  \\\n",
       "0   39         State-gov   77516  Bachelors             13   \n",
       "1   50  Self-emp-not-inc   83311  Bachelors             13   \n",
       "2   38           Private  215646    HS-grad              9   \n",
       "3   53           Private  234721       11th              7   \n",
       "4   28           Private  338409  Bachelors             13   \n",
       "\n",
       "       marital_status         occupation   relationship   race  gender  \\\n",
       "0       Never-married       Adm-clerical  Not-in-family  White    Male   \n",
       "1  Married-civ-spouse    Exec-managerial        Husband  White    Male   \n",
       "2            Divorced  Handlers-cleaners  Not-in-family  White    Male   \n",
       "3  Married-civ-spouse  Handlers-cleaners        Husband  Black    Male   \n",
       "4  Married-civ-spouse     Prof-specialty           Wife  Black  Female   \n",
       "\n",
       "   capital_gain  capital_loss  hours_per_week native_country income_bracket  \n",
       "0          2174             0              40  United-States          <=50K  \n",
       "1             0             0              13  United-States          <=50K  \n",
       "2             0             0              40  United-States          <=50K  \n",
       "3             0             0              40  United-States          <=50K  \n",
       "4             0             0              40           Cuba          <=50K  "
      ]
     },
     "execution_count": 97,
     "metadata": {},
     "output_type": "execute_result"
    }
   ],
   "source": [
    "df.head()"
   ]
  },
  {
   "cell_type": "code",
   "execution_count": 98,
   "metadata": {},
   "outputs": [
    {
     "data": {
      "text/html": [
       "<div>\n",
       "<style scoped>\n",
       "    .dataframe tbody tr th:only-of-type {\n",
       "        vertical-align: middle;\n",
       "    }\n",
       "\n",
       "    .dataframe tbody tr th {\n",
       "        vertical-align: top;\n",
       "    }\n",
       "\n",
       "    .dataframe thead th {\n",
       "        text-align: right;\n",
       "    }\n",
       "</style>\n",
       "<table border=\"1\" class=\"dataframe\">\n",
       "  <thead>\n",
       "    <tr style=\"text-align: right;\">\n",
       "      <th></th>\n",
       "      <th>age</th>\n",
       "      <th>fnlwgt</th>\n",
       "      <th>education_num</th>\n",
       "      <th>capital_gain</th>\n",
       "      <th>capital_loss</th>\n",
       "      <th>hours_per_week</th>\n",
       "    </tr>\n",
       "  </thead>\n",
       "  <tbody>\n",
       "    <tr>\n",
       "      <th>count</th>\n",
       "      <td>32561.000000</td>\n",
       "      <td>3.256100e+04</td>\n",
       "      <td>32561.000000</td>\n",
       "      <td>32561.000000</td>\n",
       "      <td>32561.000000</td>\n",
       "      <td>32561.000000</td>\n",
       "    </tr>\n",
       "    <tr>\n",
       "      <th>mean</th>\n",
       "      <td>38.581647</td>\n",
       "      <td>1.897784e+05</td>\n",
       "      <td>10.080679</td>\n",
       "      <td>1077.648844</td>\n",
       "      <td>87.303830</td>\n",
       "      <td>40.437456</td>\n",
       "    </tr>\n",
       "    <tr>\n",
       "      <th>std</th>\n",
       "      <td>13.640433</td>\n",
       "      <td>1.055500e+05</td>\n",
       "      <td>2.572720</td>\n",
       "      <td>7385.292085</td>\n",
       "      <td>402.960219</td>\n",
       "      <td>12.347429</td>\n",
       "    </tr>\n",
       "    <tr>\n",
       "      <th>min</th>\n",
       "      <td>17.000000</td>\n",
       "      <td>1.228500e+04</td>\n",
       "      <td>1.000000</td>\n",
       "      <td>0.000000</td>\n",
       "      <td>0.000000</td>\n",
       "      <td>1.000000</td>\n",
       "    </tr>\n",
       "    <tr>\n",
       "      <th>25%</th>\n",
       "      <td>28.000000</td>\n",
       "      <td>1.178270e+05</td>\n",
       "      <td>9.000000</td>\n",
       "      <td>0.000000</td>\n",
       "      <td>0.000000</td>\n",
       "      <td>40.000000</td>\n",
       "    </tr>\n",
       "    <tr>\n",
       "      <th>50%</th>\n",
       "      <td>37.000000</td>\n",
       "      <td>1.783560e+05</td>\n",
       "      <td>10.000000</td>\n",
       "      <td>0.000000</td>\n",
       "      <td>0.000000</td>\n",
       "      <td>40.000000</td>\n",
       "    </tr>\n",
       "    <tr>\n",
       "      <th>75%</th>\n",
       "      <td>48.000000</td>\n",
       "      <td>2.370510e+05</td>\n",
       "      <td>12.000000</td>\n",
       "      <td>0.000000</td>\n",
       "      <td>0.000000</td>\n",
       "      <td>45.000000</td>\n",
       "    </tr>\n",
       "    <tr>\n",
       "      <th>max</th>\n",
       "      <td>90.000000</td>\n",
       "      <td>1.484705e+06</td>\n",
       "      <td>16.000000</td>\n",
       "      <td>99999.000000</td>\n",
       "      <td>4356.000000</td>\n",
       "      <td>99.000000</td>\n",
       "    </tr>\n",
       "  </tbody>\n",
       "</table>\n",
       "</div>"
      ],
      "text/plain": [
       "                age        fnlwgt  education_num  capital_gain  capital_loss  \\\n",
       "count  32561.000000  3.256100e+04   32561.000000  32561.000000  32561.000000   \n",
       "mean      38.581647  1.897784e+05      10.080679   1077.648844     87.303830   \n",
       "std       13.640433  1.055500e+05       2.572720   7385.292085    402.960219   \n",
       "min       17.000000  1.228500e+04       1.000000      0.000000      0.000000   \n",
       "25%       28.000000  1.178270e+05       9.000000      0.000000      0.000000   \n",
       "50%       37.000000  1.783560e+05      10.000000      0.000000      0.000000   \n",
       "75%       48.000000  2.370510e+05      12.000000      0.000000      0.000000   \n",
       "max       90.000000  1.484705e+06      16.000000  99999.000000   4356.000000   \n",
       "\n",
       "       hours_per_week  \n",
       "count    32561.000000  \n",
       "mean        40.437456  \n",
       "std         12.347429  \n",
       "min          1.000000  \n",
       "25%         40.000000  \n",
       "50%         40.000000  \n",
       "75%         45.000000  \n",
       "max         99.000000  "
      ]
     },
     "execution_count": 98,
     "metadata": {},
     "output_type": "execute_result"
    }
   ],
   "source": [
    "df.describe()"
   ]
  },
  {
   "cell_type": "code",
   "execution_count": 99,
   "metadata": {},
   "outputs": [
    {
     "name": "stdout",
     "output_type": "stream",
     "text": [
      "<class 'pandas.core.frame.DataFrame'>\n",
      "RangeIndex: 32561 entries, 0 to 32560\n",
      "Data columns (total 15 columns):\n",
      "age               32561 non-null int64\n",
      "workclass         32561 non-null object\n",
      "fnlwgt            32561 non-null int64\n",
      "education         32561 non-null object\n",
      "education_num     32561 non-null int64\n",
      "marital_status    32561 non-null object\n",
      "occupation        32561 non-null object\n",
      "relationship      32561 non-null object\n",
      "race              32561 non-null object\n",
      "gender            32561 non-null object\n",
      "capital_gain      32561 non-null int64\n",
      "capital_loss      32561 non-null int64\n",
      "hours_per_week    32561 non-null int64\n",
      "native_country    32561 non-null object\n",
      "income_bracket    32561 non-null object\n",
      "dtypes: int64(6), object(9)\n",
      "memory usage: 3.7+ MB\n"
     ]
    }
   ],
   "source": [
    "df.info()"
   ]
  },
  {
   "cell_type": "markdown",
   "metadata": {},
   "source": [
    "### Looks like no missing data! But in the problem statement it was told that this data contains missing values. Lets explore the data!"
   ]
  },
  {
   "cell_type": "code",
   "execution_count": 100,
   "metadata": {},
   "outputs": [
    {
     "name": "stdout",
     "output_type": "stream",
     "text": [
      "Private             11210\n",
      "Self-emp-not-inc     1321\n",
      "Local-gov            1043\n",
      "?                     963\n",
      "State-gov             683\n",
      "Self-emp-inc          579\n",
      "Federal-gov           472\n",
      "Without-pay             7\n",
      "Never-worked            3\n",
      "Name: workclass, dtype: int64\n",
      "HS-grad         5283\n",
      "Some-college    3587\n",
      "Bachelors       2670\n",
      "Masters          934\n",
      "Assoc-voc        679\n",
      "11th             637\n",
      "Assoc-acdm       534\n",
      "10th             456\n",
      "7th-8th          309\n",
      "Prof-school      258\n",
      "9th              242\n",
      "12th             224\n",
      "Doctorate        181\n",
      "5th-6th          176\n",
      "1st-4th           79\n",
      "Preschool         32\n",
      "Name: education, dtype: int64\n",
      "Married-civ-spouse       7403\n",
      "Never-married            5434\n",
      "Divorced                 2190\n",
      "Widowed                   525\n",
      "Separated                 505\n",
      "Married-spouse-absent     210\n",
      "Married-AF-spouse          14\n",
      "Name: marital_status, dtype: int64\n",
      "Prof-specialty       2032\n",
      "Exec-managerial      2020\n",
      "Craft-repair         2013\n",
      "Sales                1854\n",
      "Adm-clerical         1841\n",
      "Other-service        1628\n",
      "Machine-op-inspct    1020\n",
      "?                     966\n",
      "Transport-moving      758\n",
      "Handlers-cleaners     702\n",
      "Tech-support          518\n",
      "Farming-fishing       496\n",
      "Protective-serv       334\n",
      "Priv-house-serv        93\n",
      "Armed-Forces            6\n",
      "Name: occupation, dtype: int64\n",
      "Husband           6523\n",
      "Not-in-family     4278\n",
      "Own-child         2513\n",
      "Unmarried         1679\n",
      "Wife               763\n",
      "Other-relative     525\n",
      "Name: relationship, dtype: int64\n",
      "White                 13946\n",
      "Black                  1561\n",
      "Asian-Pac-Islander      480\n",
      "Amer-Indian-Eskimo      159\n",
      "Other                   135\n",
      "Name: race, dtype: int64\n",
      "Male      10860\n",
      "Female     5421\n",
      "Name: gender, dtype: int64\n",
      "United-States                 14662\n",
      "Mexico                          308\n",
      "?                               274\n",
      "Philippines                      97\n",
      "Puerto-Rico                      70\n",
      "Germany                          69\n",
      "Canada                           61\n",
      "India                            51\n",
      "El-Salvador                      49\n",
      "China                            47\n",
      "Cuba                             43\n",
      "England                          37\n",
      "South                            35\n",
      "Dominican-Republic               33\n",
      "Italy                            32\n",
      "Haiti                            31\n",
      "Japan                            30\n",
      "Portugal                         30\n",
      "Poland                           27\n",
      "Columbia                         26\n",
      "Jamaica                          25\n",
      "Guatemala                        24\n",
      "Greece                           20\n",
      "Vietnam                          19\n",
      "Ecuador                          17\n",
      "Iran                             16\n",
      "Nicaragua                        15\n",
      "Peru                             15\n",
      "Taiwan                           14\n",
      "Ireland                          13\n",
      "Thailand                         12\n",
      "Hong                             10\n",
      "Scotland                          9\n",
      "France                            9\n",
      "Cambodia                          9\n",
      "Outlying-US(Guam-USVI-etc)        9\n",
      "Trinadad&Tobago                   8\n",
      "Honduras                          7\n",
      "Yugoslavia                        7\n",
      "Hungary                           6\n",
      "Laos                              5\n",
      "Name: native_country, dtype: int64\n"
     ]
    }
   ],
   "source": [
    "#Removing all null values row\n",
    "categorical_columns=['workclass', 'education', 'marital_status', 'occupation', 'relationship', 'race', 'gender', 'native_country']\n",
    "for category in categorical_columns:\n",
    "    print(test[category].value_counts())"
   ]
  },
  {
   "cell_type": "markdown",
   "metadata": {},
   "source": [
    "### Looks like missing values are encoded by '?' in the data. Lets replace them by nan"
   ]
  },
  {
   "cell_type": "code",
   "execution_count": 101,
   "metadata": {},
   "outputs": [],
   "source": [
    "df.replace('?',np.nan,inplace=True)\n",
    "test.replace('?',np.nan,inplace=True)"
   ]
  },
  {
   "cell_type": "code",
   "execution_count": 102,
   "metadata": {},
   "outputs": [
    {
     "data": {
      "text/plain": [
       "age                 0\n",
       "workclass         963\n",
       "fnlwgt              0\n",
       "education           0\n",
       "education_num       0\n",
       "marital_status      0\n",
       "occupation        966\n",
       "relationship        0\n",
       "race                0\n",
       "gender              0\n",
       "capital_gain        0\n",
       "capital_loss        0\n",
       "hours_per_week      0\n",
       "native_country    274\n",
       "income_bracket      0\n",
       "dtype: int64"
      ]
     },
     "execution_count": 102,
     "metadata": {},
     "output_type": "execute_result"
    }
   ],
   "source": [
    "df.isnull().sum()\n",
    "test.isnull().sum()"
   ]
  },
  {
   "cell_type": "markdown",
   "metadata": {},
   "source": [
    "Workclass, occupation and native country have missing values.\n",
    "* Workclass: This could be because someone was working earlier and not working now. We don't have a category for that. We can create that.\n",
    "* Occupation: Replace '?' with 'unknown occupation'\n",
    "* Native Country: Lets replace Native country as unknown."
   ]
  },
  {
   "cell_type": "code",
   "execution_count": 103,
   "metadata": {},
   "outputs": [],
   "source": [
    "df['workclass'].fillna('Not working now', inplace=True)\n",
    "df['occupation'].fillna('Unknown',inplace=True)\n",
    "df['native_country'].fillna('Unknown',inplace=True)\n",
    "\n",
    "test['workclass'].fillna('Not working now', inplace=True)\n",
    "test['occupation'].fillna('Unknown',inplace=True)\n",
    "test['native_country'].fillna('Unknown',inplace=True)"
   ]
  },
  {
   "cell_type": "code",
   "execution_count": 104,
   "metadata": {},
   "outputs": [
    {
     "data": {
      "text/plain": [
       "age               0\n",
       "workclass         0\n",
       "fnlwgt            0\n",
       "education         0\n",
       "education_num     0\n",
       "marital_status    0\n",
       "occupation        0\n",
       "relationship      0\n",
       "race              0\n",
       "gender            0\n",
       "capital_gain      0\n",
       "capital_loss      0\n",
       "hours_per_week    0\n",
       "native_country    0\n",
       "income_bracket    0\n",
       "dtype: int64"
      ]
     },
     "execution_count": 104,
     "metadata": {},
     "output_type": "execute_result"
    }
   ],
   "source": [
    "test.isnull().sum()"
   ]
  },
  {
   "cell_type": "markdown",
   "metadata": {},
   "source": [
    "Cool, so missing values have been handled!"
   ]
  },
  {
   "cell_type": "code",
   "execution_count": 105,
   "metadata": {},
   "outputs": [],
   "source": [
    "df['income_bracket'] = df['income_bracket'].apply(lambda x: 1 if x=='>50K' else 0)\n",
    "test['income_bracket'] = test['income_bracket'].apply(lambda x: 1 if x=='>50K' else 0)"
   ]
  },
  {
   "cell_type": "code",
   "execution_count": 106,
   "metadata": {},
   "outputs": [
    {
     "name": "stdout",
     "output_type": "stream",
     "text": [
      "['age', 'fnlwgt', 'education_num', 'capital_gain', 'capital_loss', 'hours_per_week', 'income_bracket']\n"
     ]
    }
   ],
   "source": [
    "print([column for column in df.columns if column not in categorical_columns])"
   ]
  },
  {
   "cell_type": "code",
   "execution_count": 107,
   "metadata": {},
   "outputs": [
    {
     "data": {
      "image/png": "[encoded data removed]",
      "text/plain": [
       "<Figure size 432x288 with 1 Axes>"
      ]
     },
     "metadata": {
      "needs_background": "light"
     },
     "output_type": "display_data"
    },
    {
     "data": {
      "image/png": "[encoded data removed]",
      "text/plain": [
       "<Figure size 432x288 with 1 Axes>"
      ]
     },
     "metadata": {
      "needs_background": "light"
     },
     "output_type": "display_data"
    },
    {
     "data": {
      "image/png": "[encoded data removed]",
      "text/plain": [
       "<Figure size 432x288 with 1 Axes>"
      ]
     },
     "metadata": {
      "needs_background": "light"
     },
     "output_type": "display_data"
    },
    {
     "data": {
      "image/png": "[encoded data removed]",
      "text/plain": [
       "<Figure size 432x288 with 1 Axes>"
      ]
     },
     "metadata": {
      "needs_background": "light"
     },
     "output_type": "display_data"
    },
    {
     "data": {
      "image/png": "[encoded data removed]",
      "text/plain": [
       "<Figure size 432x288 with 1 Axes>"
      ]
     },
     "metadata": {
      "needs_background": "light"
     },
     "output_type": "display_data"
    }
   ],
   "source": [
    "numerical_features=['age', 'fnlwgt', 'capital_gain', 'capital_loss', 'hours_per_week']\n",
    "for feature in numerical_features:\n",
    "    sns.distplot(df[feature])\n",
    "    plt.show()"
   ]
  },
  {
   "cell_type": "markdown",
   "metadata": {},
   "source": [
    "What should be the action step for the above skewed variables:\n",
    "* Age,capital_gain,capital_loss: Apply standard scaling\n",
    "* fnlwgt: Apply log cause the values are skewed. \n",
    "* Education_num: This should be correlated with Education feature. Lets eliminate one of them."
   ]
  },
  {
   "cell_type": "code",
   "execution_count": 108,
   "metadata": {},
   "outputs": [
    {
     "data": {
      "image/png": "[encoded data removed]",
      "text/plain": [
       "<Figure size 432x288 with 1 Axes>"
      ]
     },
     "metadata": {
      "needs_background": "light"
     },
     "output_type": "display_data"
    }
   ],
   "source": [
    "df['education'].value_counts().plot(kind='bar');"
   ]
  },
  {
   "cell_type": "markdown",
   "metadata": {},
   "source": [
    "Merging the primary education to reduce the number of categories"
   ]
  },
  {
   "cell_type": "code",
   "execution_count": 109,
   "metadata": {},
   "outputs": [],
   "source": [
    "def primary(x):\n",
    "    if x in ['1st-4th', '5th-6th', '7th-8th', '9th', '10th', '11th', '12th']:\n",
    "        return ' Primary'\n",
    "    else:\n",
    "        return x"
   ]
  },
  {
   "cell_type": "code",
   "execution_count": 110,
   "metadata": {},
   "outputs": [
    {
     "data": {
      "text/plain": [
       "array([' Primary', 'HS-grad', 'Assoc-acdm', 'Some-college', 'Prof-school',\n",
       "       'Bachelors', 'Masters', 'Doctorate', 'Assoc-voc', 'Preschool'],\n",
       "      dtype=object)"
      ]
     },
     "execution_count": 110,
     "metadata": {},
     "output_type": "execute_result"
    }
   ],
   "source": [
    "df['education'] = df['education'].apply(primary)\n",
    "df['education'].unique()\n",
    "\n",
    "test['education'] = test['education'].apply(primary)\n",
    "test['education'].unique()"
   ]
  },
  {
   "cell_type": "code",
   "execution_count": 111,
   "metadata": {},
   "outputs": [],
   "source": [
    "df['fnlwgt'] = df['fnlwgt'].apply(lambda x: np.log1p(x))\n",
    "test['fnlwgt'] = test['fnlwgt'].apply(lambda x: np.log1p(x))"
   ]
  },
  {
   "cell_type": "code",
   "execution_count": 112,
   "metadata": {},
   "outputs": [],
   "source": [
    "df.drop('education_num',axis=1,inplace=True)\n",
    "test.drop('education_num',axis=1,inplace=True)"
   ]
  },
  {
   "cell_type": "code",
   "execution_count": 86,
   "metadata": {},
   "outputs": [],
   "source": [
    "def preprocess(df):\n",
    "    df.replace('?',np.nan,inplace=True)\n",
    "    df['workclass'].fillna('Not working now', inplace=True)\n",
    "    df['occupation'].fillna('Unknown',inplace=True)\n",
    "    df['native_country'].fillna('Unknown',inplace=True)\n",
    "    df['income_bracket'] = df['income_bracket'].apply(lambda x: 1 if x=='>50K' else 0)\n",
    "    df['education'] = df['education'].apply(primary)\n",
    "    df['fnlwgt'] = df['fnlwgt'].apply(lambda x: np.log1p(x))\n",
    "    df['native_country']=df['native_country'].apply(lambda country: native(country))\n",
    "    return df"
   ]
  },
  {
   "cell_type": "code",
   "execution_count": 93,
   "metadata": {},
   "outputs": [
    {
     "data": {
      "text/plain": [
       "((32561, 22102), (16281, 13220))"
      ]
     },
     "execution_count": 93,
     "metadata": {},
     "output_type": "execute_result"
    }
   ],
   "source": [
    "df_preprocessed=preprocess(df)\n",
    "test_preprocessed=preprocess(test)\n",
    "categories = np.union1d(df_preprocessed[categorical_columns], test_preprocessed[categorical_columns])\n",
    "df_preprocessed = df_preprocessed[categorical_columns].astype('category', categories=categories)\n",
    "test_preprocessed = test_preprocessed[categorical_columns].astype('category', categories=categories)\n",
    "dum_train=pd.get_dummies(df_preprocessed)\n",
    "dum_test=pd.get_dummies(test_preprocessed)\n",
    "dum_train.shape,dum_test.shape"
   ]
  },
  {
   "cell_type": "code",
   "execution_count": 92,
   "metadata": {},
   "outputs": [
    {
     "data": {
      "text/html": [
       "<div>\n",
       "<style scoped>\n",
       "    .dataframe tbody tr th:only-of-type {\n",
       "        vertical-align: middle;\n",
       "    }\n",
       "\n",
       "    .dataframe tbody tr th {\n",
       "        vertical-align: top;\n",
       "    }\n",
       "\n",
       "    .dataframe thead th {\n",
       "        text-align: right;\n",
       "    }\n",
       "</style>\n",
       "<table border=\"1\" class=\"dataframe\">\n",
       "  <thead>\n",
       "    <tr style=\"text-align: right;\">\n",
       "      <th></th>\n",
       "      <th>workclass_Federal-gov</th>\n",
       "      <th>workclass_Local-gov</th>\n",
       "      <th>workclass_Never-worked</th>\n",
       "      <th>workclass_Not working now</th>\n",
       "      <th>workclass_Private</th>\n",
       "      <th>workclass_Self-emp-inc</th>\n",
       "      <th>workclass_Self-emp-not-inc</th>\n",
       "      <th>workclass_State-gov</th>\n",
       "      <th>workclass_Without-pay</th>\n",
       "      <th>education_ Primary</th>\n",
       "      <th>...</th>\n",
       "      <th>race_Black</th>\n",
       "      <th>race_Other</th>\n",
       "      <th>race_White</th>\n",
       "      <th>gender_Female</th>\n",
       "      <th>gender_Male</th>\n",
       "      <th>native_country_Central America</th>\n",
       "      <th>native_country_Eastern</th>\n",
       "      <th>native_country_European</th>\n",
       "      <th>native_country_North America</th>\n",
       "      <th>native_country_South America</th>\n",
       "    </tr>\n",
       "  </thead>\n",
       "  <tbody>\n",
       "    <tr>\n",
       "      <th>0</th>\n",
       "      <td>0</td>\n",
       "      <td>0</td>\n",
       "      <td>0</td>\n",
       "      <td>0</td>\n",
       "      <td>0</td>\n",
       "      <td>0</td>\n",
       "      <td>0</td>\n",
       "      <td>1</td>\n",
       "      <td>0</td>\n",
       "      <td>0</td>\n",
       "      <td>...</td>\n",
       "      <td>0</td>\n",
       "      <td>0</td>\n",
       "      <td>1</td>\n",
       "      <td>0</td>\n",
       "      <td>1</td>\n",
       "      <td>0</td>\n",
       "      <td>0</td>\n",
       "      <td>0</td>\n",
       "      <td>1</td>\n",
       "      <td>0</td>\n",
       "    </tr>\n",
       "    <tr>\n",
       "      <th>1</th>\n",
       "      <td>0</td>\n",
       "      <td>0</td>\n",
       "      <td>0</td>\n",
       "      <td>0</td>\n",
       "      <td>0</td>\n",
       "      <td>0</td>\n",
       "      <td>1</td>\n",
       "      <td>0</td>\n",
       "      <td>0</td>\n",
       "      <td>0</td>\n",
       "      <td>...</td>\n",
       "      <td>0</td>\n",
       "      <td>0</td>\n",
       "      <td>1</td>\n",
       "      <td>0</td>\n",
       "      <td>1</td>\n",
       "      <td>0</td>\n",
       "      <td>0</td>\n",
       "      <td>0</td>\n",
       "      <td>1</td>\n",
       "      <td>0</td>\n",
       "    </tr>\n",
       "    <tr>\n",
       "      <th>2</th>\n",
       "      <td>0</td>\n",
       "      <td>0</td>\n",
       "      <td>0</td>\n",
       "      <td>0</td>\n",
       "      <td>1</td>\n",
       "      <td>0</td>\n",
       "      <td>0</td>\n",
       "      <td>0</td>\n",
       "      <td>0</td>\n",
       "      <td>0</td>\n",
       "      <td>...</td>\n",
       "      <td>0</td>\n",
       "      <td>0</td>\n",
       "      <td>1</td>\n",
       "      <td>0</td>\n",
       "      <td>1</td>\n",
       "      <td>0</td>\n",
       "      <td>0</td>\n",
       "      <td>0</td>\n",
       "      <td>1</td>\n",
       "      <td>0</td>\n",
       "    </tr>\n",
       "    <tr>\n",
       "      <th>3</th>\n",
       "      <td>0</td>\n",
       "      <td>0</td>\n",
       "      <td>0</td>\n",
       "      <td>0</td>\n",
       "      <td>1</td>\n",
       "      <td>0</td>\n",
       "      <td>0</td>\n",
       "      <td>0</td>\n",
       "      <td>0</td>\n",
       "      <td>1</td>\n",
       "      <td>...</td>\n",
       "      <td>1</td>\n",
       "      <td>0</td>\n",
       "      <td>0</td>\n",
       "      <td>0</td>\n",
       "      <td>1</td>\n",
       "      <td>0</td>\n",
       "      <td>0</td>\n",
       "      <td>0</td>\n",
       "      <td>1</td>\n",
       "      <td>0</td>\n",
       "    </tr>\n",
       "    <tr>\n",
       "      <th>4</th>\n",
       "      <td>0</td>\n",
       "      <td>0</td>\n",
       "      <td>0</td>\n",
       "      <td>0</td>\n",
       "      <td>1</td>\n",
       "      <td>0</td>\n",
       "      <td>0</td>\n",
       "      <td>0</td>\n",
       "      <td>0</td>\n",
       "      <td>0</td>\n",
       "      <td>...</td>\n",
       "      <td>1</td>\n",
       "      <td>0</td>\n",
       "      <td>0</td>\n",
       "      <td>1</td>\n",
       "      <td>0</td>\n",
       "      <td>1</td>\n",
       "      <td>0</td>\n",
       "      <td>0</td>\n",
       "      <td>0</td>\n",
       "      <td>0</td>\n",
       "    </tr>\n",
       "  </tbody>\n",
       "</table>\n",
       "<p>5 rows × 59 columns</p>\n",
       "</div>"
      ],
      "text/plain": [
       "   workclass_Federal-gov  workclass_Local-gov  workclass_Never-worked  \\\n",
       "0                      0                    0                       0   \n",
       "1                      0                    0                       0   \n",
       "2                      0                    0                       0   \n",
       "3                      0                    0                       0   \n",
       "4                      0                    0                       0   \n",
       "\n",
       "   workclass_Not working now  workclass_Private  workclass_Self-emp-inc  \\\n",
       "0                          0                  0                       0   \n",
       "1                          0                  0                       0   \n",
       "2                          0                  1                       0   \n",
       "3                          0                  1                       0   \n",
       "4                          0                  1                       0   \n",
       "\n",
       "   workclass_Self-emp-not-inc  workclass_State-gov  workclass_Without-pay  \\\n",
       "0                           0                    1                      0   \n",
       "1                           1                    0                      0   \n",
       "2                           0                    0                      0   \n",
       "3                           0                    0                      0   \n",
       "4                           0                    0                      0   \n",
       "\n",
       "   education_ Primary  ...  race_Black  race_Other  race_White  gender_Female  \\\n",
       "0                   0  ...           0           0           1              0   \n",
       "1                   0  ...           0           0           1              0   \n",
       "2                   0  ...           0           0           1              0   \n",
       "3                   1  ...           1           0           0              0   \n",
       "4                   0  ...           1           0           0              1   \n",
       "\n",
       "   gender_Male  native_country_Central America  native_country_Eastern  \\\n",
       "0            1                               0                       0   \n",
       "1            1                               0                       0   \n",
       "2            1                               0                       0   \n",
       "3            1                               0                       0   \n",
       "4            0                               1                       0   \n",
       "\n",
       "   native_country_European  native_country_North America  \\\n",
       "0                        0                             1   \n",
       "1                        0                             1   \n",
       "2                        0                             1   \n",
       "3                        0                             1   \n",
       "4                        0                             0   \n",
       "\n",
       "   native_country_South America  \n",
       "0                             0  \n",
       "1                             0  \n",
       "2                             0  \n",
       "3                             0  \n",
       "4                             0  \n",
       "\n",
       "[5 rows x 59 columns]"
      ]
     },
     "execution_count": 92,
     "metadata": {},
     "output_type": "execute_result"
    }
   ],
   "source": [
    "dum_train.head()"
   ]
  },
  {
   "cell_type": "code",
   "execution_count": 113,
   "metadata": {},
   "outputs": [
    {
     "data": {
      "text/plain": [
       "((32561, 14), (16281, 14))"
      ]
     },
     "execution_count": 113,
     "metadata": {},
     "output_type": "execute_result"
    }
   ],
   "source": [
    "df.shape,test.shape"
   ]
  },
  {
   "cell_type": "code",
   "execution_count": 114,
   "metadata": {},
   "outputs": [],
   "source": [
    "df_full=pd.concat([df,test],axis=0)"
   ]
  },
  {
   "cell_type": "code",
   "execution_count": 115,
   "metadata": {},
   "outputs": [
    {
     "data": {
      "text/plain": [
       "United-States                 43832\n",
       "Mexico                          951\n",
       "Unknown                         857\n",
       "Philippines                     295\n",
       "Germany                         206\n",
       "Puerto-Rico                     184\n",
       "Canada                          182\n",
       "El-Salvador                     155\n",
       "India                           151\n",
       "Cuba                            138\n",
       "England                         127\n",
       "China                           122\n",
       "South                           115\n",
       "Jamaica                         106\n",
       "Italy                           105\n",
       "Dominican-Republic              103\n",
       "Japan                            92\n",
       "Guatemala                        88\n",
       "Poland                           87\n",
       "Vietnam                          86\n",
       "Columbia                         85\n",
       "Haiti                            75\n",
       "Portugal                         67\n",
       "Taiwan                           65\n",
       "Iran                             59\n",
       "Greece                           49\n",
       "Nicaragua                        49\n",
       "Peru                             46\n",
       "Ecuador                          45\n",
       "France                           38\n",
       "Ireland                          37\n",
       "Thailand                         30\n",
       "Hong                             30\n",
       "Cambodia                         28\n",
       "Trinadad&Tobago                  27\n",
       "Outlying-US(Guam-USVI-etc)       23\n",
       "Laos                             23\n",
       "Yugoslavia                       23\n",
       "Scotland                         21\n",
       "Honduras                         20\n",
       "Hungary                          19\n",
       "Holand-Netherlands                1\n",
       "Name: native_country, dtype: int64"
      ]
     },
     "execution_count": 115,
     "metadata": {},
     "output_type": "execute_result"
    }
   ],
   "source": [
    "df_full.native_country.value_counts()\n"
   ]
  },
  {
   "cell_type": "code",
   "execution_count": 116,
   "metadata": {},
   "outputs": [
    {
     "data": {
      "text/plain": [
       "array(['United-States', 'Cuba', 'Jamaica', 'India', 'Unknown', 'Mexico',\n",
       "       'South', 'Puerto-Rico', 'Honduras', 'England', 'Canada', 'Germany',\n",
       "       'Iran', 'Philippines', 'Italy', 'Poland', 'Columbia', 'Cambodia',\n",
       "       'Thailand', 'Ecuador', 'Laos', 'Taiwan', 'Haiti', 'Portugal',\n",
       "       'Dominican-Republic', 'El-Salvador', 'France', 'Guatemala',\n",
       "       'China', 'Japan', 'Yugoslavia', 'Peru',\n",
       "       'Outlying-US(Guam-USVI-etc)', 'Scotland', 'Trinadad&Tobago',\n",
       "       'Greece', 'Nicaragua', 'Vietnam', 'Hong', 'Ireland', 'Hungary',\n",
       "       'Holand-Netherlands'], dtype=object)"
      ]
     },
     "execution_count": 116,
     "metadata": {},
     "output_type": "execute_result"
    }
   ],
   "source": [
    "df_full.native_country.unique()"
   ]
  },
  {
   "cell_type": "code",
   "execution_count": 117,
   "metadata": {},
   "outputs": [],
   "source": [
    "def native(country):\n",
    "    if country in ['United-States',  'Unknown','Canada','Columbia']:\n",
    "        return 'North America'\n",
    "    elif country in ['Cuba','Mexico','Dominican-Republic','Puerto-Rico','Outlying-US(Guam-USVI-etc)','Jamaica','Haiti'\n",
    "                     ,'Honduras','El-Salvador','Guatemala','Nicaragua']:\n",
    "        return 'Central America'\n",
    "    elif country in ['South','Ecuador','Peru','Trinadad&Tobago']:\n",
    "        return 'South America'\n",
    "    elif country in ['England', 'Germany','Italy','Portugal','France', 'Yugoslavia','Scotland','Greece', \n",
    "                     'Ireland',' Philippines','Hungary','Holand-Netherlands','Ireland','Poland']:\n",
    "        return 'European'\n",
    "    elif country in ['India', 'Iran', 'Philippines','Cambodia','Thailand', 'Laos', 'Taiwan', 'Japan', 'China', 'Vietnam',\n",
    "                     'Hong']:\n",
    "        return 'Eastern'    \n",
    "    else: \n",
    "        return country "
   ]
  },
  {
   "cell_type": "code",
   "execution_count": 118,
   "metadata": {},
   "outputs": [
    {
     "data": {
      "text/plain": [
       "array(['North America', 'Central America', 'Eastern', 'South America',\n",
       "       'European'], dtype=object)"
      ]
     },
     "execution_count": 118,
     "metadata": {},
     "output_type": "execute_result"
    }
   ],
   "source": [
    "df_full['native_country']=df_full['native_country'].apply(lambda country: native(country))\n",
    "df_full['native_country'].unique()"
   ]
  },
  {
   "cell_type": "code",
   "execution_count": 119,
   "metadata": {},
   "outputs": [],
   "source": [
    "df_full=pd.get_dummies(df_full)"
   ]
  },
  {
   "cell_type": "code",
   "execution_count": 130,
   "metadata": {},
   "outputs": [],
   "source": [
    "def normalize(data):\n",
    "    '''\n",
    "    data: dataframe which you want to normalize\n",
    "    '''\n",
    "    fmean=np.mean(data)\n",
    "    frange=np.amax(data)-np.amin(data)\n",
    "    normalization_params = [fmean,frange]\n",
    "    data-=fmean\n",
    "    data/=frange\n",
    "    return data,normalization_params"
   ]
  },
  {
   "cell_type": "code",
   "execution_count": 131,
   "metadata": {},
   "outputs": [],
   "source": [
    "train=df_full.head(df.shape[0])\n",
    "test_cat=df_full.tail(test.shape[0])\n",
    "\n",
    "X_train = train.drop('income_bracket', axis=1)\n",
    "y_train = train['income_bracket']\n",
    "X_test = test_cat.drop('income_bracket',axis=1)\n",
    "y_test = test_cat['income_bracket']"
   ]
  },
  {
   "cell_type": "code",
   "execution_count": 132,
   "metadata": {},
   "outputs": [],
   "source": [
    "X_train,normalization_params=normalize(X_train)\n",
    "X_test-=normalization_params[0]\n",
    "X_test/=normalization_params[1]\n"
   ]
  },
  {
   "cell_type": "code",
   "execution_count": 133,
   "metadata": {},
   "outputs": [
    {
     "data": {
      "text/plain": [
       "[age                                       38.581647\n",
       " fnlwgt                                    11.983778\n",
       " capital_gain                            1077.648844\n",
       " capital_loss                              87.303830\n",
       " hours_per_week                            40.437456\n",
       " workclass_Federal-gov                      0.029483\n",
       " workclass_Local-gov                        0.064279\n",
       " workclass_Never-worked                     0.000215\n",
       " workclass_Not working now                  0.056386\n",
       " workclass_Private                          0.697030\n",
       " workclass_Self-emp-inc                     0.034274\n",
       " workclass_Self-emp-not-inc                 0.078038\n",
       " workclass_State-gov                        0.039864\n",
       " workclass_Without-pay                      0.000430\n",
       " education_ Primary                         0.129050\n",
       " education_Assoc-acdm                       0.032769\n",
       " education_Assoc-voc                        0.042443\n",
       " education_Bachelors                        0.164461\n",
       " education_Doctorate                        0.012684\n",
       " education_HS-grad                          0.322502\n",
       " education_Masters                          0.052916\n",
       " education_Preschool                        0.001566\n",
       " education_Prof-school                      0.017690\n",
       " education_Some-college                     0.223918\n",
       " marital_status_Divorced                    0.136452\n",
       " marital_status_Married-AF-spouse           0.000706\n",
       " marital_status_Married-civ-spouse          0.459937\n",
       " marital_status_Married-spouse-absent       0.012837\n",
       " marital_status_Never-married               0.328092\n",
       " marital_status_Separated                   0.031479\n",
       "                                            ...     \n",
       " occupation_Exec-managerial                 0.124873\n",
       " occupation_Farming-fishing                 0.030527\n",
       " occupation_Handlers-cleaners               0.042075\n",
       " occupation_Machine-op-inspct               0.061485\n",
       " occupation_Other-service                   0.101195\n",
       " occupation_Priv-house-serv                 0.004576\n",
       " occupation_Prof-specialty                  0.127146\n",
       " occupation_Protective-serv                 0.019932\n",
       " occupation_Sales                           0.112097\n",
       " occupation_Tech-support                    0.028500\n",
       " occupation_Transport-moving                0.049046\n",
       " occupation_Unknown                         0.056601\n",
       " relationship_Husband                       0.405178\n",
       " relationship_Not-in-family                 0.255060\n",
       " relationship_Other-relative                0.030128\n",
       " relationship_Own-child                     0.155646\n",
       " relationship_Unmarried                     0.105832\n",
       " relationship_Wife                          0.048156\n",
       " race_Amer-Indian-Eskimo                    0.009551\n",
       " race_Asian-Pac-Islander                    0.031909\n",
       " race_Black                                 0.095943\n",
       " race_Other                                 0.008323\n",
       " race_White                                 0.854274\n",
       " gender_Female                              0.330795\n",
       " gender_Male                                0.669205\n",
       " native_country_Central America             0.039249\n",
       " native_country_Eastern                     0.020607\n",
       " native_country_European                    0.016001\n",
       " native_country_North America               0.919290\n",
       " native_country_South America               0.004852\n",
       " Length: 64, dtype: float64,\n",
       " age                                        73.000000\n",
       " fnlwgt                                      4.794512\n",
       " capital_gain                            99999.000000\n",
       " capital_loss                             4356.000000\n",
       " hours_per_week                             98.000000\n",
       " workclass_Federal-gov                       1.000000\n",
       " workclass_Local-gov                         1.000000\n",
       " workclass_Never-worked                      1.000000\n",
       " workclass_Not working now                   1.000000\n",
       " workclass_Private                           1.000000\n",
       " workclass_Self-emp-inc                      1.000000\n",
       " workclass_Self-emp-not-inc                  1.000000\n",
       " workclass_State-gov                         1.000000\n",
       " workclass_Without-pay                       1.000000\n",
       " education_ Primary                          1.000000\n",
       " education_Assoc-acdm                        1.000000\n",
       " education_Assoc-voc                         1.000000\n",
       " education_Bachelors                         1.000000\n",
       " education_Doctorate                         1.000000\n",
       " education_HS-grad                           1.000000\n",
       " education_Masters                           1.000000\n",
       " education_Preschool                         1.000000\n",
       " education_Prof-school                       1.000000\n",
       " education_Some-college                      1.000000\n",
       " marital_status_Divorced                     1.000000\n",
       " marital_status_Married-AF-spouse            1.000000\n",
       " marital_status_Married-civ-spouse           1.000000\n",
       " marital_status_Married-spouse-absent        1.000000\n",
       " marital_status_Never-married                1.000000\n",
       " marital_status_Separated                    1.000000\n",
       "                                             ...     \n",
       " occupation_Exec-managerial                  1.000000\n",
       " occupation_Farming-fishing                  1.000000\n",
       " occupation_Handlers-cleaners                1.000000\n",
       " occupation_Machine-op-inspct                1.000000\n",
       " occupation_Other-service                    1.000000\n",
       " occupation_Priv-house-serv                  1.000000\n",
       " occupation_Prof-specialty                   1.000000\n",
       " occupation_Protective-serv                  1.000000\n",
       " occupation_Sales                            1.000000\n",
       " occupation_Tech-support                     1.000000\n",
       " occupation_Transport-moving                 1.000000\n",
       " occupation_Unknown                          1.000000\n",
       " relationship_Husband                        1.000000\n",
       " relationship_Not-in-family                  1.000000\n",
       " relationship_Other-relative                 1.000000\n",
       " relationship_Own-child                      1.000000\n",
       " relationship_Unmarried                      1.000000\n",
       " relationship_Wife                           1.000000\n",
       " race_Amer-Indian-Eskimo                     1.000000\n",
       " race_Asian-Pac-Islander                     1.000000\n",
       " race_Black                                  1.000000\n",
       " race_Other                                  1.000000\n",
       " race_White                                  1.000000\n",
       " gender_Female                               1.000000\n",
       " gender_Male                                 1.000000\n",
       " native_country_Central America              1.000000\n",
       " native_country_Eastern                      1.000000\n",
       " native_country_European                     1.000000\n",
       " native_country_North America                1.000000\n",
       " native_country_South America                1.000000\n",
       " Length: 64, dtype: float64]"
      ]
     },
     "execution_count": 133,
     "metadata": {},
     "output_type": "execute_result"
    }
   ],
   "source": [
    "normalization_params"
   ]
  },
  {
   "cell_type": "code",
   "execution_count": 134,
   "metadata": {},
   "outputs": [
    {
     "data": {
      "text/html": [
       "<div>\n",
       "<style scoped>\n",
       "    .dataframe tbody tr th:only-of-type {\n",
       "        vertical-align: middle;\n",
       "    }\n",
       "\n",
       "    .dataframe tbody tr th {\n",
       "        vertical-align: top;\n",
       "    }\n",
       "\n",
       "    .dataframe thead th {\n",
       "        text-align: right;\n",
       "    }\n",
       "</style>\n",
       "<table border=\"1\" class=\"dataframe\">\n",
       "  <thead>\n",
       "    <tr style=\"text-align: right;\">\n",
       "      <th></th>\n",
       "      <th>age</th>\n",
       "      <th>fnlwgt</th>\n",
       "      <th>capital_gain</th>\n",
       "      <th>capital_loss</th>\n",
       "      <th>hours_per_week</th>\n",
       "      <th>workclass_Federal-gov</th>\n",
       "      <th>workclass_Local-gov</th>\n",
       "      <th>workclass_Never-worked</th>\n",
       "      <th>workclass_Not working now</th>\n",
       "      <th>workclass_Private</th>\n",
       "      <th>...</th>\n",
       "      <th>race_Black</th>\n",
       "      <th>race_Other</th>\n",
       "      <th>race_White</th>\n",
       "      <th>gender_Female</th>\n",
       "      <th>gender_Male</th>\n",
       "      <th>native_country_Central America</th>\n",
       "      <th>native_country_Eastern</th>\n",
       "      <th>native_country_European</th>\n",
       "      <th>native_country_North America</th>\n",
       "      <th>native_country_South America</th>\n",
       "    </tr>\n",
       "  </thead>\n",
       "  <tbody>\n",
       "    <tr>\n",
       "      <th>0</th>\n",
       "      <td>0.005731</td>\n",
       "      <td>-0.151324</td>\n",
       "      <td>0.010964</td>\n",
       "      <td>-0.020042</td>\n",
       "      <td>-0.004464</td>\n",
       "      <td>-0.029483</td>\n",
       "      <td>-0.064279</td>\n",
       "      <td>-0.000215</td>\n",
       "      <td>-0.056386</td>\n",
       "      <td>-0.69703</td>\n",
       "      <td>...</td>\n",
       "      <td>-0.095943</td>\n",
       "      <td>-0.008323</td>\n",
       "      <td>0.145726</td>\n",
       "      <td>-0.330795</td>\n",
       "      <td>0.330795</td>\n",
       "      <td>-0.039249</td>\n",
       "      <td>-0.020607</td>\n",
       "      <td>-0.016001</td>\n",
       "      <td>0.08071</td>\n",
       "      <td>-0.004852</td>\n",
       "    </tr>\n",
       "    <tr>\n",
       "      <th>1</th>\n",
       "      <td>0.156416</td>\n",
       "      <td>-0.136287</td>\n",
       "      <td>-0.010777</td>\n",
       "      <td>-0.020042</td>\n",
       "      <td>-0.279974</td>\n",
       "      <td>-0.029483</td>\n",
       "      <td>-0.064279</td>\n",
       "      <td>-0.000215</td>\n",
       "      <td>-0.056386</td>\n",
       "      <td>-0.69703</td>\n",
       "      <td>...</td>\n",
       "      <td>-0.095943</td>\n",
       "      <td>-0.008323</td>\n",
       "      <td>0.145726</td>\n",
       "      <td>-0.330795</td>\n",
       "      <td>0.330795</td>\n",
       "      <td>-0.039249</td>\n",
       "      <td>-0.020607</td>\n",
       "      <td>-0.016001</td>\n",
       "      <td>0.08071</td>\n",
       "      <td>-0.004852</td>\n",
       "    </tr>\n",
       "    <tr>\n",
       "      <th>2</th>\n",
       "      <td>-0.007968</td>\n",
       "      <td>0.062075</td>\n",
       "      <td>-0.010777</td>\n",
       "      <td>-0.020042</td>\n",
       "      <td>-0.004464</td>\n",
       "      <td>-0.029483</td>\n",
       "      <td>-0.064279</td>\n",
       "      <td>-0.000215</td>\n",
       "      <td>-0.056386</td>\n",
       "      <td>0.30297</td>\n",
       "      <td>...</td>\n",
       "      <td>-0.095943</td>\n",
       "      <td>-0.008323</td>\n",
       "      <td>0.145726</td>\n",
       "      <td>-0.330795</td>\n",
       "      <td>0.330795</td>\n",
       "      <td>-0.039249</td>\n",
       "      <td>-0.020607</td>\n",
       "      <td>-0.016001</td>\n",
       "      <td>0.08071</td>\n",
       "      <td>-0.004852</td>\n",
       "    </tr>\n",
       "    <tr>\n",
       "      <th>3</th>\n",
       "      <td>0.197512</td>\n",
       "      <td>0.079754</td>\n",
       "      <td>-0.010777</td>\n",
       "      <td>-0.020042</td>\n",
       "      <td>-0.004464</td>\n",
       "      <td>-0.029483</td>\n",
       "      <td>-0.064279</td>\n",
       "      <td>-0.000215</td>\n",
       "      <td>-0.056386</td>\n",
       "      <td>0.30297</td>\n",
       "      <td>...</td>\n",
       "      <td>0.904057</td>\n",
       "      <td>-0.008323</td>\n",
       "      <td>-0.854274</td>\n",
       "      <td>-0.330795</td>\n",
       "      <td>0.330795</td>\n",
       "      <td>-0.039249</td>\n",
       "      <td>-0.020607</td>\n",
       "      <td>-0.016001</td>\n",
       "      <td>0.08071</td>\n",
       "      <td>-0.004852</td>\n",
       "    </tr>\n",
       "    <tr>\n",
       "      <th>4</th>\n",
       "      <td>-0.144954</td>\n",
       "      <td>0.156061</td>\n",
       "      <td>-0.010777</td>\n",
       "      <td>-0.020042</td>\n",
       "      <td>-0.004464</td>\n",
       "      <td>-0.029483</td>\n",
       "      <td>-0.064279</td>\n",
       "      <td>-0.000215</td>\n",
       "      <td>-0.056386</td>\n",
       "      <td>0.30297</td>\n",
       "      <td>...</td>\n",
       "      <td>0.904057</td>\n",
       "      <td>-0.008323</td>\n",
       "      <td>-0.854274</td>\n",
       "      <td>0.669205</td>\n",
       "      <td>-0.669205</td>\n",
       "      <td>0.960751</td>\n",
       "      <td>-0.020607</td>\n",
       "      <td>-0.016001</td>\n",
       "      <td>-0.91929</td>\n",
       "      <td>-0.004852</td>\n",
       "    </tr>\n",
       "  </tbody>\n",
       "</table>\n",
       "<p>5 rows × 64 columns</p>\n",
       "</div>"
      ],
      "text/plain": [
       "        age    fnlwgt  capital_gain  capital_loss  hours_per_week  \\\n",
       "0  0.005731 -0.151324      0.010964     -0.020042       -0.004464   \n",
       "1  0.156416 -0.136287     -0.010777     -0.020042       -0.279974   \n",
       "2 -0.007968  0.062075     -0.010777     -0.020042       -0.004464   \n",
       "3  0.197512  0.079754     -0.010777     -0.020042       -0.004464   \n",
       "4 -0.144954  0.156061     -0.010777     -0.020042       -0.004464   \n",
       "\n",
       "   workclass_Federal-gov  workclass_Local-gov  workclass_Never-worked  \\\n",
       "0              -0.029483            -0.064279               -0.000215   \n",
       "1              -0.029483            -0.064279               -0.000215   \n",
       "2              -0.029483            -0.064279               -0.000215   \n",
       "3              -0.029483            -0.064279               -0.000215   \n",
       "4              -0.029483            -0.064279               -0.000215   \n",
       "\n",
       "   workclass_Not working now  workclass_Private  ...  race_Black  race_Other  \\\n",
       "0                  -0.056386           -0.69703  ...   -0.095943   -0.008323   \n",
       "1                  -0.056386           -0.69703  ...   -0.095943   -0.008323   \n",
       "2                  -0.056386            0.30297  ...   -0.095943   -0.008323   \n",
       "3                  -0.056386            0.30297  ...    0.904057   -0.008323   \n",
       "4                  -0.056386            0.30297  ...    0.904057   -0.008323   \n",
       "\n",
       "   race_White  gender_Female  gender_Male  native_country_Central America  \\\n",
       "0    0.145726      -0.330795     0.330795                       -0.039249   \n",
       "1    0.145726      -0.330795     0.330795                       -0.039249   \n",
       "2    0.145726      -0.330795     0.330795                       -0.039249   \n",
       "3   -0.854274      -0.330795     0.330795                       -0.039249   \n",
       "4   -0.854274       0.669205    -0.669205                        0.960751   \n",
       "\n",
       "   native_country_Eastern  native_country_European  \\\n",
       "0               -0.020607                -0.016001   \n",
       "1               -0.020607                -0.016001   \n",
       "2               -0.020607                -0.016001   \n",
       "3               -0.020607                -0.016001   \n",
       "4               -0.020607                -0.016001   \n",
       "\n",
       "   native_country_North America  native_country_South America  \n",
       "0                       0.08071                     -0.004852  \n",
       "1                       0.08071                     -0.004852  \n",
       "2                       0.08071                     -0.004852  \n",
       "3                       0.08071                     -0.004852  \n",
       "4                      -0.91929                     -0.004852  \n",
       "\n",
       "[5 rows x 64 columns]"
      ]
     },
     "execution_count": 134,
     "metadata": {},
     "output_type": "execute_result"
    }
   ],
   "source": [
    "X_train.head()"
   ]
  },
  {
   "cell_type": "code",
   "execution_count": 135,
   "metadata": {},
   "outputs": [
    {
     "data": {
      "text/html": [
       "<div>\n",
       "<style scoped>\n",
       "    .dataframe tbody tr th:only-of-type {\n",
       "        vertical-align: middle;\n",
       "    }\n",
       "\n",
       "    .dataframe tbody tr th {\n",
       "        vertical-align: top;\n",
       "    }\n",
       "\n",
       "    .dataframe thead th {\n",
       "        text-align: right;\n",
       "    }\n",
       "</style>\n",
       "<table border=\"1\" class=\"dataframe\">\n",
       "  <thead>\n",
       "    <tr style=\"text-align: right;\">\n",
       "      <th></th>\n",
       "      <th>age</th>\n",
       "      <th>fnlwgt</th>\n",
       "      <th>capital_gain</th>\n",
       "      <th>capital_loss</th>\n",
       "      <th>hours_per_week</th>\n",
       "      <th>workclass_Federal-gov</th>\n",
       "      <th>workclass_Local-gov</th>\n",
       "      <th>workclass_Never-worked</th>\n",
       "      <th>workclass_Not working now</th>\n",
       "      <th>workclass_Private</th>\n",
       "      <th>...</th>\n",
       "      <th>race_Black</th>\n",
       "      <th>race_Other</th>\n",
       "      <th>race_White</th>\n",
       "      <th>gender_Female</th>\n",
       "      <th>gender_Male</th>\n",
       "      <th>native_country_Central America</th>\n",
       "      <th>native_country_Eastern</th>\n",
       "      <th>native_country_European</th>\n",
       "      <th>native_country_North America</th>\n",
       "      <th>native_country_South America</th>\n",
       "    </tr>\n",
       "  </thead>\n",
       "  <tbody>\n",
       "    <tr>\n",
       "      <th>0</th>\n",
       "      <td>-0.186050</td>\n",
       "      <td>0.072595</td>\n",
       "      <td>-0.010777</td>\n",
       "      <td>-0.020042</td>\n",
       "      <td>-0.004464</td>\n",
       "      <td>-0.029483</td>\n",
       "      <td>-0.064279</td>\n",
       "      <td>-0.000215</td>\n",
       "      <td>-0.056386</td>\n",
       "      <td>0.30297</td>\n",
       "      <td>...</td>\n",
       "      <td>0.904057</td>\n",
       "      <td>-0.008323</td>\n",
       "      <td>-0.854274</td>\n",
       "      <td>-0.330795</td>\n",
       "      <td>0.330795</td>\n",
       "      <td>-0.039249</td>\n",
       "      <td>-0.020607</td>\n",
       "      <td>-0.016001</td>\n",
       "      <td>0.08071</td>\n",
       "      <td>-0.004852</td>\n",
       "    </tr>\n",
       "    <tr>\n",
       "      <th>1</th>\n",
       "      <td>-0.007968</td>\n",
       "      <td>-0.120611</td>\n",
       "      <td>-0.010777</td>\n",
       "      <td>-0.020042</td>\n",
       "      <td>0.097577</td>\n",
       "      <td>-0.029483</td>\n",
       "      <td>-0.064279</td>\n",
       "      <td>-0.000215</td>\n",
       "      <td>-0.056386</td>\n",
       "      <td>0.30297</td>\n",
       "      <td>...</td>\n",
       "      <td>-0.095943</td>\n",
       "      <td>-0.008323</td>\n",
       "      <td>0.145726</td>\n",
       "      <td>-0.330795</td>\n",
       "      <td>0.330795</td>\n",
       "      <td>-0.039249</td>\n",
       "      <td>-0.020607</td>\n",
       "      <td>-0.016001</td>\n",
       "      <td>0.08071</td>\n",
       "      <td>-0.004852</td>\n",
       "    </tr>\n",
       "    <tr>\n",
       "      <th>2</th>\n",
       "      <td>-0.144954</td>\n",
       "      <td>0.155160</td>\n",
       "      <td>-0.010777</td>\n",
       "      <td>-0.020042</td>\n",
       "      <td>-0.004464</td>\n",
       "      <td>-0.029483</td>\n",
       "      <td>0.935721</td>\n",
       "      <td>-0.000215</td>\n",
       "      <td>-0.056386</td>\n",
       "      <td>-0.69703</td>\n",
       "      <td>...</td>\n",
       "      <td>-0.095943</td>\n",
       "      <td>-0.008323</td>\n",
       "      <td>0.145726</td>\n",
       "      <td>-0.330795</td>\n",
       "      <td>0.330795</td>\n",
       "      <td>-0.039249</td>\n",
       "      <td>-0.020607</td>\n",
       "      <td>-0.016001</td>\n",
       "      <td>0.08071</td>\n",
       "      <td>-0.004852</td>\n",
       "    </tr>\n",
       "    <tr>\n",
       "      <th>3</th>\n",
       "      <td>0.074224</td>\n",
       "      <td>0.000245</td>\n",
       "      <td>0.066104</td>\n",
       "      <td>-0.020042</td>\n",
       "      <td>-0.004464</td>\n",
       "      <td>-0.029483</td>\n",
       "      <td>-0.064279</td>\n",
       "      <td>-0.000215</td>\n",
       "      <td>-0.056386</td>\n",
       "      <td>0.30297</td>\n",
       "      <td>...</td>\n",
       "      <td>0.904057</td>\n",
       "      <td>-0.008323</td>\n",
       "      <td>-0.854274</td>\n",
       "      <td>-0.330795</td>\n",
       "      <td>0.330795</td>\n",
       "      <td>-0.039249</td>\n",
       "      <td>-0.020607</td>\n",
       "      <td>-0.016001</td>\n",
       "      <td>0.08071</td>\n",
       "      <td>-0.004852</td>\n",
       "    </tr>\n",
       "    <tr>\n",
       "      <th>4</th>\n",
       "      <td>-0.281940</td>\n",
       "      <td>-0.091035</td>\n",
       "      <td>-0.010777</td>\n",
       "      <td>-0.020042</td>\n",
       "      <td>-0.106505</td>\n",
       "      <td>-0.029483</td>\n",
       "      <td>-0.064279</td>\n",
       "      <td>-0.000215</td>\n",
       "      <td>0.943614</td>\n",
       "      <td>-0.69703</td>\n",
       "      <td>...</td>\n",
       "      <td>-0.095943</td>\n",
       "      <td>-0.008323</td>\n",
       "      <td>0.145726</td>\n",
       "      <td>0.669205</td>\n",
       "      <td>-0.669205</td>\n",
       "      <td>-0.039249</td>\n",
       "      <td>-0.020607</td>\n",
       "      <td>-0.016001</td>\n",
       "      <td>0.08071</td>\n",
       "      <td>-0.004852</td>\n",
       "    </tr>\n",
       "  </tbody>\n",
       "</table>\n",
       "<p>5 rows × 64 columns</p>\n",
       "</div>"
      ],
      "text/plain": [
       "        age    fnlwgt  capital_gain  capital_loss  hours_per_week  \\\n",
       "0 -0.186050  0.072595     -0.010777     -0.020042       -0.004464   \n",
       "1 -0.007968 -0.120611     -0.010777     -0.020042        0.097577   \n",
       "2 -0.144954  0.155160     -0.010777     -0.020042       -0.004464   \n",
       "3  0.074224  0.000245      0.066104     -0.020042       -0.004464   \n",
       "4 -0.281940 -0.091035     -0.010777     -0.020042       -0.106505   \n",
       "\n",
       "   workclass_Federal-gov  workclass_Local-gov  workclass_Never-worked  \\\n",
       "0              -0.029483            -0.064279               -0.000215   \n",
       "1              -0.029483            -0.064279               -0.000215   \n",
       "2              -0.029483             0.935721               -0.000215   \n",
       "3              -0.029483            -0.064279               -0.000215   \n",
       "4              -0.029483            -0.064279               -0.000215   \n",
       "\n",
       "   workclass_Not working now  workclass_Private  ...  race_Black  race_Other  \\\n",
       "0                  -0.056386            0.30297  ...    0.904057   -0.008323   \n",
       "1                  -0.056386            0.30297  ...   -0.095943   -0.008323   \n",
       "2                  -0.056386           -0.69703  ...   -0.095943   -0.008323   \n",
       "3                  -0.056386            0.30297  ...    0.904057   -0.008323   \n",
       "4                   0.943614           -0.69703  ...   -0.095943   -0.008323   \n",
       "\n",
       "   race_White  gender_Female  gender_Male  native_country_Central America  \\\n",
       "0   -0.854274      -0.330795     0.330795                       -0.039249   \n",
       "1    0.145726      -0.330795     0.330795                       -0.039249   \n",
       "2    0.145726      -0.330795     0.330795                       -0.039249   \n",
       "3   -0.854274      -0.330795     0.330795                       -0.039249   \n",
       "4    0.145726       0.669205    -0.669205                       -0.039249   \n",
       "\n",
       "   native_country_Eastern  native_country_European  \\\n",
       "0               -0.020607                -0.016001   \n",
       "1               -0.020607                -0.016001   \n",
       "2               -0.020607                -0.016001   \n",
       "3               -0.020607                -0.016001   \n",
       "4               -0.020607                -0.016001   \n",
       "\n",
       "   native_country_North America  native_country_South America  \n",
       "0                       0.08071                     -0.004852  \n",
       "1                       0.08071                     -0.004852  \n",
       "2                       0.08071                     -0.004852  \n",
       "3                       0.08071                     -0.004852  \n",
       "4                       0.08071                     -0.004852  \n",
       "\n",
       "[5 rows x 64 columns]"
      ]
     },
     "execution_count": 135,
     "metadata": {},
     "output_type": "execute_result"
    }
   ],
   "source": [
    "X_test.head()"
   ]
  },
  {
   "cell_type": "code",
   "execution_count": 136,
   "metadata": {},
   "outputs": [
    {
     "name": "stderr",
     "output_type": "stream",
     "text": [
      "c:\\users\\vjaju\\appdata\\local\\continuum\\miniconda3\\envs\\ml\\lib\\site-packages\\sklearn\\linear_model\\logistic.py:432: FutureWarning: Default solver will be changed to 'lbfgs' in 0.22. Specify a solver to silence this warning.\n",
      "  FutureWarning)\n"
     ]
    },
    {
     "data": {
      "text/plain": [
       "LogisticRegression(C=1.0, class_weight=None, dual=False, fit_intercept=True,\n",
       "                   intercept_scaling=1, l1_ratio=None, max_iter=100,\n",
       "                   multi_class='warn', n_jobs=None, penalty='l2',\n",
       "                   random_state=None, solver='warn', tol=0.0001, verbose=0,\n",
       "                   warm_start=False)"
      ]
     },
     "execution_count": 136,
     "metadata": {},
     "output_type": "execute_result"
    }
   ],
   "source": [
    "from sklearn.linear_model import LogisticRegression\n",
    "from sklearn.metrics import accuracy_score\n",
    "model = LogisticRegression()\n",
    "model.fit(X_train, y_train)\n",
    "\n"
   ]
  },
  {
   "cell_type": "code",
   "execution_count": 138,
   "metadata": {},
   "outputs": [
    {
     "data": {
      "text/plain": [
       "0.8515401861122202"
      ]
     },
     "execution_count": 138,
     "metadata": {},
     "output_type": "execute_result"
    }
   ],
   "source": [
    "y_train_pred = model.predict(X_train)\n",
    "y_test_pred=model.predict(X_test)\n",
    "accuracy_score(y_train_pred, y_train)"
   ]
  },
  {
   "cell_type": "code",
   "execution_count": 139,
   "metadata": {},
   "outputs": [
    {
     "data": {
      "text/plain": [
       "0.8091026349732817"
      ]
     },
     "execution_count": 139,
     "metadata": {},
     "output_type": "execute_result"
    }
   ],
   "source": [
    "y_train_pred = model.predict(X_train)\n",
    "y_test_pred=model.predict(X_test)\n",
    "accuracy_score(y_test_pred, y_test)"
   ]
  },
  {
   "cell_type": "code",
   "execution_count": null,
   "metadata": {},
   "outputs": [],
   "source": []
  },
  {
   "cell_type": "code",
   "execution_count": null,
   "metadata": {},
   "outputs": [],
   "source": [
    "def train_with_file(data_file, iters):\n",
    "  \"\"\"Trains a logisitc regression classifier.\n",
    "\n",
    "  Args:\n",
    "    data_file: a path to a csv file containing training data, without headers.\n",
    "    iters: the number of iterations to use when training the classifier\n",
    "\n",
    "  Returns:\n",
    "    weights: a column vector (1d numpy array) containing the weights learned in your classifier.\n",
    "    normalization_params: a dict mapping column names to (min, max) values from the training set\n",
    "  \"\"\"\n",
    "\n",
    "  return weights, normalization_params\n",
    " \n",
    " \n",
    "def classify(data_file, weights, normalization_params):\n",
    "  \"\"\"Classifies data based on the supplied logistic regression weights.\n",
    "\n",
    "  Args:\n",
    "    data_file: a path to a csv file containing test data, without headers.\n",
    "    weights: a column vectors containing the weights learned during training.\n",
    "    normalization_params: a dict mapping column names to (min, max) values from the training set\n",
    "\n",
    "  Returns:\n",
    "    a column vector containing either a 1 or a 0 for each row in data_file\n",
    "  \"\"\"\n",
    "\n",
    "  return labels\n",
    "\n",
    "# Our grading program will use these functions as follows:\n",
    "def sample_main():\n",
    "  weights, normalization_params = train_with_file('adult-training.csv', 1000)\n",
    "  labels = classify('adult-test.csv', weights, normalization_params)"
   ]
  },
  {
   "cell_type": "code",
   "execution_count": 74,
   "metadata": {},
   "outputs": [
    {
     "data": {
      "text/plain": [
       "age                                     1.0\n",
       "fnlwgt                                  1.0\n",
       "capital_gain                            1.0\n",
       "capital_loss                            1.0\n",
       "hours_per_week                          1.0\n",
       "workclass_Federal-gov                   1.0\n",
       "workclass_Local-gov                     1.0\n",
       "workclass_Never-worked                  1.0\n",
       "workclass_Not working now               1.0\n",
       "workclass_Private                       1.0\n",
       "workclass_Self-emp-inc                  1.0\n",
       "workclass_Self-emp-not-inc              1.0\n",
       "workclass_State-gov                     1.0\n",
       "workclass_Without-pay                   1.0\n",
       "education_ Primary                      1.0\n",
       "education_Assoc-acdm                    1.0\n",
       "education_Assoc-voc                     1.0\n",
       "education_Bachelors                     1.0\n",
       "education_Doctorate                     1.0\n",
       "education_HS-grad                       1.0\n",
       "education_Masters                       1.0\n",
       "education_Preschool                     1.0\n",
       "education_Prof-school                   1.0\n",
       "education_Some-college                  1.0\n",
       "marital_status_Divorced                 1.0\n",
       "marital_status_Married-AF-spouse        1.0\n",
       "marital_status_Married-civ-spouse       1.0\n",
       "marital_status_Married-spouse-absent    1.0\n",
       "marital_status_Never-married            1.0\n",
       "marital_status_Separated                1.0\n",
       "                                       ... \n",
       "occupation_Exec-managerial              1.0\n",
       "occupation_Farming-fishing              1.0\n",
       "occupation_Handlers-cleaners            1.0\n",
       "occupation_Machine-op-inspct            1.0\n",
       "occupation_Other-service                1.0\n",
       "occupation_Priv-house-serv              1.0\n",
       "occupation_Prof-specialty               1.0\n",
       "occupation_Protective-serv              1.0\n",
       "occupation_Sales                        1.0\n",
       "occupation_Tech-support                 1.0\n",
       "occupation_Transport-moving             1.0\n",
       "occupation_Unknown                      1.0\n",
       "relationship_Husband                    1.0\n",
       "relationship_Not-in-family              1.0\n",
       "relationship_Other-relative             1.0\n",
       "relationship_Own-child                  1.0\n",
       "relationship_Unmarried                  1.0\n",
       "relationship_Wife                       1.0\n",
       "race_Amer-Indian-Eskimo                 1.0\n",
       "race_Asian-Pac-Islander                 1.0\n",
       "race_Black                              1.0\n",
       "race_Other                              1.0\n",
       "race_White                              1.0\n",
       "gender_Female                           1.0\n",
       "gender_Male                             1.0\n",
       "native_country_Central America          1.0\n",
       "native_country_Eastern                  1.0\n",
       "native_country_European                 1.0\n",
       "native_country_North America            1.0\n",
       "native_country_South America            1.0\n",
       "Length: 64, dtype: float64"
      ]
     },
     "execution_count": 74,
     "metadata": {},
     "output_type": "execute_result"
    }
   ],
   "source": [
    "    fmean=np.mean(X_train)\n",
    "    frange=np.amax(X_train)-np.amin(X_train)\n",
    "    normalization_params = [fmean,frange]\n",
    "    normalization_params[1]"
   ]
  },
  {
   "cell_type": "code",
   "execution_count": null,
   "metadata": {},
   "outputs": [],
   "source": []
  },
  {
   "cell_type": "code",
   "execution_count": null,
   "metadata": {},
   "outputs": [],
   "source": []
  },
  {
   "cell_type": "code",
   "execution_count": null,
   "metadata": {},
   "outputs": [],
   "source": []
  },
  {
   "cell_type": "code",
   "execution_count": null,
   "metadata": {},
   "outputs": [],
   "source": []
  },
  {
   "cell_type": "code",
   "execution_count": null,
   "metadata": {},
   "outputs": [],
   "source": [
    "df['class'].value_counts()"
   ]
  },
  {
   "cell_type": "code",
   "execution_count": null,
   "metadata": {},
   "outputs": [],
   "source": [
    "df['class'].replace([\"Iris-setossa\",\"versicolor\"], [\"Iris-setosa\",\"Iris-versicolor\"], inplace=True)\n",
    "df['class'].value_counts()"
   ]
  },
  {
   "cell_type": "code",
   "execution_count": null,
   "metadata": {},
   "outputs": [],
   "source": [
    "final_df = df[df['class'] != 'Iris-virginica']"
   ]
  },
  {
   "cell_type": "code",
   "execution_count": null,
   "metadata": {},
   "outputs": [],
   "source": [
    "final_df.head()"
   ]
  },
  {
   "cell_type": "code",
   "execution_count": null,
   "metadata": {},
   "outputs": [],
   "source": [
    "sns.pairplot(final_df, hue='class', size=2.5)\n"
   ]
  },
  {
   "cell_type": "code",
   "execution_count": null,
   "metadata": {},
   "outputs": [],
   "source": [
    "final_df.hist(column = 'sepal_length_cm',bins=20, figsize=(10,5))"
   ]
  },
  {
   "cell_type": "code",
   "execution_count": null,
   "metadata": {},
   "outputs": [],
   "source": [
    "final_df.loc[final_df.sepal_length_cm < 1, ['sepal_length_cm']] = final_df['sepal_length_cm']*100\n",
    "final_df.hist(column = 'sepal_length_cm',bins=20, figsize=(10,5))"
   ]
  },
  {
   "cell_type": "code",
   "execution_count": null,
   "metadata": {},
   "outputs": [],
   "source": [
    "final_df = final_df.drop(final_df[(final_df['class'] == \"Iris-setosa\") & (final_df['sepal_width_cm'] < 2.5)].index)\n",
    "sns.pairplot(final_df, hue='class', size=2.5)"
   ]
  },
  {
   "cell_type": "code",
   "execution_count": null,
   "metadata": {},
   "outputs": [],
   "source": [
    "final_df['class'].replace([\"Iris-setosa\",\"Iris-versicolor\"], [1,0], inplace=True)\n",
    "final_df.head()"
   ]
  },
  {
   "cell_type": "code",
   "execution_count": null,
   "metadata": {},
   "outputs": [],
   "source": [
    "inp_df = final_df.drop(final_df.columns[[4]], axis=1)\n",
    "out_df = final_df.drop(final_df.columns[[0,1,2,3]], axis=1)\n",
    "#\n",
    "scaler = StandardScaler()\n",
    "inp_df = scaler.fit_transform(inp_df)\n",
    "#\n",
    "X_train, X_test, y_train, y_test = train_test_split(inp_df, out_df, test_size=0.2, random_state=42)"
   ]
  },
  {
   "cell_type": "code",
   "execution_count": 75,
   "metadata": {},
   "outputs": [
    {
     "name": "stderr",
     "output_type": "stream",
     "text": [
      "c:\\users\\vjaju\\appdata\\local\\continuum\\miniconda3\\envs\\ml\\lib\\site-packages\\ipykernel_launcher.py:4: FutureWarning: Method .as_matrix will be removed in a future version. Use .values instead.\n",
      "  after removing the cwd from sys.path.\n",
      "c:\\users\\vjaju\\appdata\\local\\continuum\\miniconda3\\envs\\ml\\lib\\site-packages\\ipykernel_launcher.py:5: FutureWarning: Method .as_matrix will be removed in a future version. Use .values instead.\n",
      "  \"\"\"\n"
     ]
    }
   ],
   "source": [
    "\n",
    "X_tr_arr = X_train\n",
    "X_ts_arr = X_test\n",
    "y_tr_arr = y_train.as_matrix()\n",
    "y_ts_arr = y_test.as_matrix()"
   ]
  },
  {
   "cell_type": "code",
   "execution_count": 76,
   "metadata": {},
   "outputs": [
    {
     "name": "stdout",
     "output_type": "stream",
     "text": [
      "Input Shape (32561, 64)\n",
      "Output Shape (16281, 64)\n"
     ]
    }
   ],
   "source": [
    "print('Input Shape', (X_tr_arr.shape))\n",
    "print('Output Shape', X_test.shape)"
   ]
  },
  {
   "cell_type": "code",
   "execution_count": 77,
   "metadata": {},
   "outputs": [],
   "source": [
    "\n",
    "def weightInitialization(n_features):\n",
    "    w = np.zeros((1,n_features))\n",
    "    b = 0\n",
    "    return w,b\n",
    "\n",
    "def sigmoid_activation(result):\n",
    "    final_result = 1/(1+np.exp(-result))\n",
    "    return final_result\n",
    "\n",
    "\n",
    "def model_optimize(w, b, X, Y):\n",
    "    m = X.shape[0]\n",
    "    \n",
    "    #Prediction\n",
    "    final_result = sigmoid_activation(np.dot(w,X.T)+b)\n",
    "    Y_T = Y.T\n",
    "    cost = (-1/m)*(np.sum((Y_T*np.log(final_result)) + ((1-Y_T)*(np.log(1-final_result)))))\n",
    "    #\n",
    "    \n",
    "    #Gradient calculation\n",
    "    dw = (1/m)*(np.dot(X.T, (final_result-Y.T).T))\n",
    "    db = (1/m)*(np.sum(final_result-Y.T))\n",
    "    \n",
    "    grads = {\"dw\": dw, \"db\": db}\n",
    "    \n",
    "    return grads, cost\n",
    "\n",
    "def model_predict(w, b, X, Y, learning_rate, no_iterations):\n",
    "    costs = []\n",
    "    for i in range(no_iterations):\n",
    "        #\n",
    "        grads, cost = model_optimize(w,b,X,Y)\n",
    "        #\n",
    "        dw = grads[\"dw\"]\n",
    "        db = grads[\"db\"]\n",
    "        #weight update\n",
    "        w = w - (learning_rate * (dw.T))\n",
    "        b = b - (learning_rate * db)\n",
    "        #\n",
    "        \n",
    "        if (i % 100 == 0):\n",
    "            costs.append(cost)\n",
    "            #print(\"Cost after %i iteration is %f\" %(i, cost))\n",
    "    \n",
    "    #final parameters\n",
    "    coeff = {\"w\": w, \"b\": b}\n",
    "    gradient = {\"dw\": dw, \"db\": db}\n",
    "    \n",
    "    return coeff, gradient, costs\n",
    "\n",
    "\n",
    "def predict(final_pred, m):\n",
    "    y_pred = np.zeros((1,m))\n",
    "    for i in range(final_pred.shape[1]):\n",
    "        if final_pred[0][i] > 0.5:\n",
    "            y_pred[0][i] = 1\n",
    "    return y_pred"
   ]
  },
  {
   "cell_type": "code",
   "execution_count": 78,
   "metadata": {},
   "outputs": [
    {
     "name": "stdout",
     "output_type": "stream",
     "text": [
      "Number of Features 64\n",
      "Optimized weights [[ 8.13417050e-03 -2.06817472e-05  3.14045332e-03  2.64273303e-03\n",
      "   5.42114237e-03  1.90764588e-03  1.51329850e-03 -2.26636751e-05\n",
      "  -3.39254294e-03 -6.64179711e-03  4.76475869e-03  1.37808145e-03\n",
      "   5.39767144e-04 -4.65479478e-05 -1.04807964e-02  1.14089753e-04\n",
      "   3.71103469e-04  1.26141790e-02  2.81802974e-03 -1.16292135e-02\n",
      "   7.41108780e-03 -1.68309224e-04  3.87308862e-03 -4.92325925e-03\n",
      "  -8.02173323e-03  6.21973089e-05  4.08415432e-02 -8.92403627e-04\n",
      "  -2.75341846e-02 -2.41457985e-03 -2.04083921e-03 -5.25551585e-03\n",
      "  -1.60168328e-05 -9.75814142e-04  1.34023945e-02 -1.75376805e-03\n",
      "  -3.32529974e-03 -3.18888558e-03 -8.77843304e-03 -4.63660722e-04\n",
      "   1.17305761e-02  7.27013243e-04  1.44060326e-03  8.26402781e-04\n",
      "  -9.54389345e-04 -3.41520661e-03  3.60993908e-02 -1.50301783e-02\n",
      "  -2.67471711e-03 -1.53407990e-02 -8.11374204e-03  5.06004570e-03\n",
      "  -5.27246066e-04  3.55542214e-04 -4.83228709e-03 -5.45454898e-04\n",
      "   5.54944584e-03 -1.83875695e-02  1.83875695e-02 -2.81911449e-03\n",
      "   6.02573712e-04  3.60051859e-04  2.04812787e-03 -1.91638954e-04]]\n",
      "Optimized intercept -0.11032226300500823\n",
      "Training Accuracy 0.7618930622523878\n",
      "Test Accuracy 0.9939192924267551\n"
     ]
    }
   ],
   "source": [
    "#Get number of features\n",
    "n_features = X_tr_arr.shape[1]\n",
    "print('Number of Features', n_features)\n",
    "w, b = weightInitialization(n_features)\n",
    "#Gradient Descent\n",
    "coeff, gradient, costs = model_predict(w, b, X_tr_arr, y_tr_arr, learning_rate=0.0001,no_iterations=4500)\n",
    "#Final prediction\n",
    "w = coeff[\"w\"]\n",
    "b = coeff[\"b\"]\n",
    "print('Optimized weights', w)\n",
    "print('Optimized intercept',b)\n",
    "#\n",
    "final_train_pred = sigmoid_activation(np.dot(w,X_tr_arr.T)+b)\n",
    "final_test_pred = sigmoid_activation(np.dot(w,X_ts_arr.T)+b)\n",
    "#\n",
    "m_tr =  X_tr_arr.shape[0]\n",
    "m_ts =  X_ts_arr.shape[0]\n",
    "#\n",
    "y_tr_pred = predict(final_train_pred, m_tr)\n",
    "print('Training Accuracy',accuracy_score(y_tr_pred.T, y_tr_arr))\n",
    "#\n",
    "y_ts_pred = predict(final_test_pred, m_ts)\n",
    "print('Test Accuracy',accuracy_score(y_ts_pred.T, y_ts_arr))"
   ]
  },
  {
   "cell_type": "code",
   "execution_count": 79,
   "metadata": {},
   "outputs": [
    {
     "name": "stdout",
     "output_type": "stream",
     "text": [
      "{'w': array([[ 8.13417050e-03, -2.06817472e-05,  3.14045332e-03,\n",
      "         2.64273303e-03,  5.42114237e-03,  1.90764588e-03,\n",
      "         1.51329850e-03, -2.26636751e-05, -3.39254294e-03,\n",
      "        -6.64179711e-03,  4.76475869e-03,  1.37808145e-03,\n",
      "         5.39767144e-04, -4.65479478e-05, -1.04807964e-02,\n",
      "         1.14089753e-04,  3.71103469e-04,  1.26141790e-02,\n",
      "         2.81802974e-03, -1.16292135e-02,  7.41108780e-03,\n",
      "        -1.68309224e-04,  3.87308862e-03, -4.92325925e-03,\n",
      "        -8.02173323e-03,  6.21973089e-05,  4.08415432e-02,\n",
      "        -8.92403627e-04, -2.75341846e-02, -2.41457985e-03,\n",
      "        -2.04083921e-03, -5.25551585e-03, -1.60168328e-05,\n",
      "        -9.75814142e-04,  1.34023945e-02, -1.75376805e-03,\n",
      "        -3.32529974e-03, -3.18888558e-03, -8.77843304e-03,\n",
      "        -4.63660722e-04,  1.17305761e-02,  7.27013243e-04,\n",
      "         1.44060326e-03,  8.26402781e-04, -9.54389345e-04,\n",
      "        -3.41520661e-03,  3.60993908e-02, -1.50301783e-02,\n",
      "        -2.67471711e-03, -1.53407990e-02, -8.11374204e-03,\n",
      "         5.06004570e-03, -5.27246066e-04,  3.55542214e-04,\n",
      "        -4.83228709e-03, -5.45454898e-04,  5.54944584e-03,\n",
      "        -1.83875695e-02,  1.83875695e-02, -2.81911449e-03,\n",
      "         6.02573712e-04,  3.60051859e-04,  2.04812787e-03,\n",
      "        -1.91638954e-04]]), 'b': -0.11032226300500823}\n"
     ]
    }
   ],
   "source": [
    "print(coeff)"
   ]
  },
  {
   "cell_type": "code",
   "execution_count": null,
   "metadata": {},
   "outputs": [],
   "source": [
    "plt.plot(costs)\n",
    "plt.ylabel('cost')\n",
    "plt.xlabel('iterations (per hundreds)')\n",
    "plt.title('Cost reduction over time')\n",
    "plt.show()"
   ]
  },
  {
   "cell_type": "code",
   "execution_count": 85,
   "metadata": {},
   "outputs": [
    {
     "data": {
      "text/plain": [
       "array(['10th', '11th', '12th', '1st-4th', '5th-6th', '7th-8th', '9th',\n",
       "       '?', 'Adm-clerical', 'Amer-Indian-Eskimo', 'Armed-Forces',\n",
       "       'Asian-Pac-Islander', 'Assoc-acdm', 'Assoc-voc', 'Bachelors',\n",
       "       'Black', 'Cambodia', 'Canada', 'China', 'Columbia', 'Craft-repair',\n",
       "       'Cuba', 'Divorced', 'Doctorate', 'Dominican-Republic', 'Ecuador',\n",
       "       'El-Salvador', 'England', 'Exec-managerial', 'Farming-fishing',\n",
       "       'Federal-gov', 'Female', 'France', 'Germany', 'Greece',\n",
       "       'Guatemala', 'HS-grad', 'Haiti', 'Handlers-cleaners',\n",
       "       'Holand-Netherlands', 'Honduras', 'Hong', 'Hungary', 'Husband',\n",
       "       'India', 'Iran', 'Ireland', 'Italy', 'Jamaica', 'Japan', 'Laos',\n",
       "       'Local-gov', 'Machine-op-inspct', 'Male', 'Married-AF-spouse',\n",
       "       'Married-civ-spouse', 'Married-spouse-absent', 'Masters', 'Mexico',\n",
       "       'Never-married', 'Never-worked', 'Nicaragua', 'Not-in-family',\n",
       "       'Other', 'Other-relative', 'Other-service',\n",
       "       'Outlying-US(Guam-USVI-etc)', 'Own-child', 'Peru', 'Philippines',\n",
       "       'Poland', 'Portugal', 'Preschool', 'Priv-house-serv', 'Private',\n",
       "       'Prof-school', 'Prof-specialty', 'Protective-serv', 'Puerto-Rico',\n",
       "       'Sales', 'Scotland', 'Self-emp-inc', 'Self-emp-not-inc',\n",
       "       'Separated', 'Some-college', 'South', 'State-gov', 'Taiwan',\n",
       "       'Tech-support', 'Thailand', 'Transport-moving', 'Trinadad&Tobago',\n",
       "       'United-States', 'Unmarried', 'Vietnam', 'White', 'Widowed',\n",
       "       'Wife', 'Without-pay', 'Yugoslavia'], dtype=object)"
      ]
     },
     "execution_count": 85,
     "metadata": {},
     "output_type": "execute_result"
    }
   ],
   "source": [
    "categories = np.union1d(df[categorical_columns], test[categorical_columns])\n",
    "categories\n"
   ]
  },
  {
   "cell_type": "code",
   "execution_count": null,
   "metadata": {},
   "outputs": [],
   "source": []
  }
 ],
 "metadata": {
  "kernelspec": {
   "display_name": "Python 3",
   "language": "python",
   "name": "python3"
  },
  "language_info": {
   "codemirror_mode": {
    "name": "ipython",
    "version": 3
   },
   "file_extension": ".py",
   "mimetype": "text/x-python",
   "name": "python",
   "nbconvert_exporter": "python",
   "pygments_lexer": "ipython3",
   "version": "3.6.8"
  }
 },
 "nbformat": 4,
 "nbformat_minor": 2
}
